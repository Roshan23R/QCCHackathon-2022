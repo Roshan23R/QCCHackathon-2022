{
  "nbformat": 4,
  "nbformat_minor": 0,
  "metadata": {
    "colab": {
      "name": "QHacK_with_Qiskit2022.ipynb",
      "provenance": []
    },
    "kernelspec": {
      "name": "python3",
      "display_name": "Python 3"
    },
    "language_info": {
      "name": "python"
    }
  },
  "cells": [
    {
      "cell_type": "code",
      "execution_count": null,
      "metadata": {
        "colab": {
          "base_uri": "https://localhost:8080/"
        },
        "id": "EseyvE0syPHn",
        "outputId": "0eb0c366-060e-4ec5-daa0-740d73bbb594"
      },
      "outputs": [
        {
          "output_type": "stream",
          "name": "stdout",
          "text": [
            "Looking in indexes: https://pypi.org/simple, https://us-python.pkg.dev/colab-wheels/public/simple/\n",
            "Requirement already satisfied: qiskit in /usr/local/lib/python3.7/dist-packages (0.36.2)\n",
            "Requirement already satisfied: qiskit-terra==0.20.2 in /usr/local/lib/python3.7/dist-packages (from qiskit) (0.20.2)\n",
            "Requirement already satisfied: qiskit-ignis==0.7.1 in /usr/local/lib/python3.7/dist-packages (from qiskit) (0.7.1)\n",
            "Requirement already satisfied: qiskit-ibmq-provider==0.19.1 in /usr/local/lib/python3.7/dist-packages (from qiskit) (0.19.1)\n",
            "Requirement already satisfied: qiskit-aer==0.10.4 in /usr/local/lib/python3.7/dist-packages (from qiskit) (0.10.4)\n",
            "Requirement already satisfied: scipy>=1.0 in /usr/local/lib/python3.7/dist-packages (from qiskit-aer==0.10.4->qiskit) (1.7.3)\n",
            "Requirement already satisfied: numpy>=1.16.3 in /usr/local/lib/python3.7/dist-packages (from qiskit-aer==0.10.4->qiskit) (1.21.6)\n",
            "Requirement already satisfied: requests-ntlm>=1.1.0 in /usr/local/lib/python3.7/dist-packages (from qiskit-ibmq-provider==0.19.1->qiskit) (1.1.0)\n",
            "Requirement already satisfied: python-dateutil>=2.8.0 in /usr/local/lib/python3.7/dist-packages (from qiskit-ibmq-provider==0.19.1->qiskit) (2.8.2)\n",
            "Requirement already satisfied: websocket-client>=1.0.1 in /usr/local/lib/python3.7/dist-packages (from qiskit-ibmq-provider==0.19.1->qiskit) (1.3.2)\n",
            "Requirement already satisfied: requests>=2.19 in /usr/local/lib/python3.7/dist-packages (from qiskit-ibmq-provider==0.19.1->qiskit) (2.23.0)\n",
            "Requirement already satisfied: urllib3>=1.21.1 in /usr/local/lib/python3.7/dist-packages (from qiskit-ibmq-provider==0.19.1->qiskit) (1.24.3)\n",
            "Requirement already satisfied: websockets>=10.0 in /usr/local/lib/python3.7/dist-packages (from qiskit-ibmq-provider==0.19.1->qiskit) (10.3)\n",
            "Requirement already satisfied: setuptools>=40.1.0 in /usr/local/lib/python3.7/dist-packages (from qiskit-ignis==0.7.1->qiskit) (57.4.0)\n",
            "Requirement already satisfied: retworkx>=0.8.0 in /usr/local/lib/python3.7/dist-packages (from qiskit-ignis==0.7.1->qiskit) (0.11.0)\n",
            "Requirement already satisfied: stevedore>=3.0.0 in /usr/local/lib/python3.7/dist-packages (from qiskit-terra==0.20.2->qiskit) (3.5.0)\n",
            "Requirement already satisfied: psutil>=5 in /usr/local/lib/python3.7/dist-packages (from qiskit-terra==0.20.2->qiskit) (5.4.8)\n",
            "Requirement already satisfied: python-constraint>=1.4 in /usr/local/lib/python3.7/dist-packages (from qiskit-terra==0.20.2->qiskit) (1.4.0)\n",
            "Requirement already satisfied: symengine>=0.9 in /usr/local/lib/python3.7/dist-packages (from qiskit-terra==0.20.2->qiskit) (0.9.2)\n",
            "Requirement already satisfied: tweedledum<2.0,>=1.1 in /usr/local/lib/python3.7/dist-packages (from qiskit-terra==0.20.2->qiskit) (1.1.1)\n",
            "Requirement already satisfied: ply>=3.10 in /usr/local/lib/python3.7/dist-packages (from qiskit-terra==0.20.2->qiskit) (3.11)\n",
            "Requirement already satisfied: dill>=0.3 in /usr/local/lib/python3.7/dist-packages (from qiskit-terra==0.20.2->qiskit) (0.3.5.1)\n",
            "Requirement already satisfied: sympy>=1.3 in /usr/local/lib/python3.7/dist-packages (from qiskit-terra==0.20.2->qiskit) (1.7.1)\n",
            "Requirement already satisfied: six>=1.5 in /usr/local/lib/python3.7/dist-packages (from python-dateutil>=2.8.0->qiskit-ibmq-provider==0.19.1->qiskit) (1.15.0)\n",
            "Requirement already satisfied: chardet<4,>=3.0.2 in /usr/local/lib/python3.7/dist-packages (from requests>=2.19->qiskit-ibmq-provider==0.19.1->qiskit) (3.0.4)\n",
            "Requirement already satisfied: idna<3,>=2.5 in /usr/local/lib/python3.7/dist-packages (from requests>=2.19->qiskit-ibmq-provider==0.19.1->qiskit) (2.10)\n",
            "Requirement already satisfied: certifi>=2017.4.17 in /usr/local/lib/python3.7/dist-packages (from requests>=2.19->qiskit-ibmq-provider==0.19.1->qiskit) (2022.5.18.1)\n",
            "Requirement already satisfied: ntlm-auth>=1.0.2 in /usr/local/lib/python3.7/dist-packages (from requests-ntlm>=1.1.0->qiskit-ibmq-provider==0.19.1->qiskit) (1.5.0)\n",
            "Requirement already satisfied: cryptography>=1.3 in /usr/local/lib/python3.7/dist-packages (from requests-ntlm>=1.1.0->qiskit-ibmq-provider==0.19.1->qiskit) (37.0.2)\n",
            "Requirement already satisfied: cffi>=1.12 in /usr/local/lib/python3.7/dist-packages (from cryptography>=1.3->requests-ntlm>=1.1.0->qiskit-ibmq-provider==0.19.1->qiskit) (1.15.0)\n",
            "Requirement already satisfied: pycparser in /usr/local/lib/python3.7/dist-packages (from cffi>=1.12->cryptography>=1.3->requests-ntlm>=1.1.0->qiskit-ibmq-provider==0.19.1->qiskit) (2.21)\n",
            "Requirement already satisfied: pbr!=2.1.0,>=2.0.0 in /usr/local/lib/python3.7/dist-packages (from stevedore>=3.0.0->qiskit-terra==0.20.2->qiskit) (5.9.0)\n",
            "Requirement already satisfied: importlib-metadata>=1.7.0 in /usr/local/lib/python3.7/dist-packages (from stevedore>=3.0.0->qiskit-terra==0.20.2->qiskit) (4.11.4)\n",
            "Requirement already satisfied: typing-extensions>=3.6.4 in /usr/local/lib/python3.7/dist-packages (from importlib-metadata>=1.7.0->stevedore>=3.0.0->qiskit-terra==0.20.2->qiskit) (4.2.0)\n",
            "Requirement already satisfied: zipp>=0.5 in /usr/local/lib/python3.7/dist-packages (from importlib-metadata>=1.7.0->stevedore>=3.0.0->qiskit-terra==0.20.2->qiskit) (3.8.0)\n",
            "Requirement already satisfied: mpmath>=0.19 in /usr/local/lib/python3.7/dist-packages (from sympy>=1.3->qiskit-terra==0.20.2->qiskit) (1.2.1)\n"
          ]
        }
      ],
      "source": [
        "!pip install qiskit\n"
      ]
    },
    {
      "cell_type": "code",
      "source": [
        "from qiskit import *\n"
      ],
      "metadata": {
        "id": "Ml7SAEJeyRyY"
      },
      "execution_count": null,
      "outputs": []
    },
    {
      "cell_type": "code",
      "source": [
        "#Initialisation\n",
        "qreg_q = QuantumRegister(6, 'q')\n",
        "creg_c = ClassicalRegister(9, 'c')\n",
        "circuit = QuantumCircuit(qreg_q, creg_c)\n",
        "\n",
        "#input as 01\n",
        "circuit.x(qreg_q[1])\n",
        "\n",
        "circuit.barrier()\n",
        "\n",
        "#encryption code\n",
        "circuit.measure(qreg_q[0], creg_c[0])\n",
        "\n",
        "circuit.x(qreg_q[0]).c_if(creg_c, 0)\n",
        "circuit.z(qreg_q[0])\n",
        "circuit.x(qreg_q[0])\n",
        "circuit.h(qreg_q[0])\n",
        "\n",
        "circuit.barrier()\n",
        "\n"
      ],
      "metadata": {
        "colab": {
          "base_uri": "https://localhost:8080/"
        },
        "id": "Ks4ZOrRgz3J3",
        "outputId": "7c69959b-dc75-4709-a4e8-22289cc2b753"
      },
      "execution_count": null,
      "outputs": [
        {
          "output_type": "execute_result",
          "data": {
            "text/plain": [
              "<qiskit.circuit.instructionset.InstructionSet at 0x7f81a13fdf50>"
            ]
          },
          "metadata": {},
          "execution_count": 140
        }
      ]
    },
    {
      "cell_type": "code",
      "source": [
        "circuit.draw()"
      ],
      "metadata": {
        "colab": {
          "base_uri": "https://localhost:8080/",
          "height": 248
        },
        "id": "sVANZI1t0CQC",
        "outputId": "788f35be-4e38-4814-9506-cda1e23c16ad"
      },
      "execution_count": null,
      "outputs": [
        {
          "output_type": "execute_result",
          "data": {
            "text/plain": [
              "           ░ ┌─┐ ┌───┐ ┌───┐┌───┐┌───┐ ░ \n",
              "q_0: ──────░─┤M├─┤ X ├─┤ Z ├┤ X ├┤ H ├─░─\n",
              "     ┌───┐ ░ └╥┘ └─╥─┘ └───┘└───┘└───┘ ░ \n",
              "q_1: ┤ X ├─░──╫────╫───────────────────░─\n",
              "     └───┘ ░  ║    ║                   ░ \n",
              "q_2: ──────░──╫────╫───────────────────░─\n",
              "           ░  ║    ║                   ░ \n",
              "q_3: ──────░──╫────╫───────────────────░─\n",
              "           ░  ║    ║                   ░ \n",
              "q_4: ──────░──╫────╫───────────────────░─\n",
              "           ░  ║    ║                   ░ \n",
              "q_5: ──────░──╫────╫───────────────────░─\n",
              "           ░  ║ ┌──╨──┐                ░ \n",
              "c: 9/═════════╩═╡ 0x0 ╞══════════════════\n",
              "              0 └─────┘                  "
            ],
            "text/html": [
              "<pre style=\"word-wrap: normal;white-space: pre;background: #fff0;line-height: 1.1;font-family: &quot;Courier New&quot;,Courier,monospace\">           ░ ┌─┐ ┌───┐ ┌───┐┌───┐┌───┐ ░ \n",
              "q_0: ──────░─┤M├─┤ X ├─┤ Z ├┤ X ├┤ H ├─░─\n",
              "     ┌───┐ ░ └╥┘ └─╥─┘ └───┘└───┘└───┘ ░ \n",
              "q_1: ┤ X ├─░──╫────╫───────────────────░─\n",
              "     └───┘ ░  ║    ║                   ░ \n",
              "q_2: ──────░──╫────╫───────────────────░─\n",
              "           ░  ║    ║                   ░ \n",
              "q_3: ──────░──╫────╫───────────────────░─\n",
              "           ░  ║    ║                   ░ \n",
              "q_4: ──────░──╫────╫───────────────────░─\n",
              "           ░  ║    ║                   ░ \n",
              "q_5: ──────░──╫────╫───────────────────░─\n",
              "           ░  ║ ┌──╨──┐                ░ \n",
              "c: 9/═════════╩═╡ 0x0 ╞══════════════════\n",
              "              0 └─────┘                  </pre>"
            ]
          },
          "metadata": {},
          "execution_count": 141
        }
      ]
    },
    {
      "cell_type": "code",
      "source": [
        "#teleportation of q_0\n",
        "circuit.h(qreg_q[2])\n",
        "circuit.cx(qreg_q[2], qreg_q[4])\n",
        "\n",
        "circuit.barrier()\n",
        "\n",
        "circuit.cx(qreg_q[0], qreg_q[2])\n",
        "circuit.h(qreg_q[0])\n",
        "\n",
        "circuit.barrier()\n",
        "\n",
        "circuit.measure(qreg_q[0], creg_c[1])\n",
        "circuit.measure(qreg_q[2], creg_c[2])\n",
        "\n",
        "circuit.barrier()\n",
        "\n",
        "circuit.cx(qreg_q[2], qreg_q[4])\n",
        "circuit.cz(qreg_q[0], qreg_q[4])\n",
        "\n",
        "circuit.measure(qreg_q[4], creg_c[5])\n",
        "\n",
        "circuit.barrier()\n",
        "circuit.barrier()"
      ],
      "metadata": {
        "colab": {
          "base_uri": "https://localhost:8080/"
        },
        "id": "UsTOcFoc1FnS",
        "outputId": "764d11e6-83d6-4894-fd1b-8abad70e21bc"
      },
      "execution_count": null,
      "outputs": [
        {
          "output_type": "execute_result",
          "data": {
            "text/plain": [
              "<qiskit.circuit.instructionset.InstructionSet at 0x7f81a12a4e60>"
            ]
          },
          "metadata": {},
          "execution_count": 142
        }
      ]
    },
    {
      "cell_type": "code",
      "source": [
        "circuit.draw()"
      ],
      "metadata": {
        "colab": {
          "base_uri": "https://localhost:8080/",
          "height": 479
        },
        "id": "9pRhAJ0r1qKp",
        "outputId": "abe61e6b-ce56-4e73-f544-29cd737d901a"
      },
      "execution_count": null,
      "outputs": [
        {
          "output_type": "execute_result",
          "data": {
            "text/plain": [
              "           ░ ┌─┐ ┌───┐ ┌───┐┌───┐┌───┐ ░            ░      ┌───┐ ░ ┌─┐    ░ »\n",
              "q_0: ──────░─┤M├─┤ X ├─┤ Z ├┤ X ├┤ H ├─░────────────░───■──┤ H ├─░─┤M├────░─»\n",
              "     ┌───┐ ░ └╥┘ └─╥─┘ └───┘└───┘└───┘ ░            ░   │  └───┘ ░ └╥┘    ░ »\n",
              "q_1: ┤ X ├─░──╫────╫───────────────────░────────────░───┼────────░──╫─────░─»\n",
              "     └───┘ ░  ║    ║                   ░ ┌───┐      ░ ┌─┴─┐      ░  ║ ┌─┐ ░ »\n",
              "q_2: ──────░──╫────╫───────────────────░─┤ H ├──■───░─┤ X ├──────░──╫─┤M├─░─»\n",
              "           ░  ║    ║                   ░ └───┘  │   ░ └───┘      ░  ║ └╥┘ ░ »\n",
              "q_3: ──────░──╫────╫───────────────────░────────┼───░────────────░──╫──╫──░─»\n",
              "           ░  ║    ║                   ░      ┌─┴─┐ ░            ░  ║  ║  ░ »\n",
              "q_4: ──────░──╫────╫───────────────────░──────┤ X ├─░────────────░──╫──╫──░─»\n",
              "           ░  ║    ║                   ░      └───┘ ░            ░  ║  ║  ░ »\n",
              "q_5: ──────░──╫────╫───────────────────░────────────░────────────░──╫──╫──░─»\n",
              "           ░  ║ ┌──╨──┐                ░            ░            ░  ║  ║  ░ »\n",
              "c: 9/═════════╩═╡ 0x0 ╞═════════════════════════════════════════════╩══╩════»\n",
              "              0 └─────┘                                             1  2    »\n",
              "«                 ░  ░ \n",
              "«q_0: ──────■─────░──░─\n",
              "«           │     ░  ░ \n",
              "«q_1: ──────┼─────░──░─\n",
              "«           │     ░  ░ \n",
              "«q_2: ──■───┼─────░──░─\n",
              "«       │   │     ░  ░ \n",
              "«q_3: ──┼───┼─────░──░─\n",
              "«     ┌─┴─┐ │ ┌─┐ ░  ░ \n",
              "«q_4: ┤ X ├─■─┤M├─░──░─\n",
              "«     └───┘   └╥┘ ░  ░ \n",
              "«q_5: ─────────╫──░──░─\n",
              "«              ║  ░  ░ \n",
              "«c: 9/═════════╩═══════\n",
              "«              5       "
            ],
            "text/html": [
              "<pre style=\"word-wrap: normal;white-space: pre;background: #fff0;line-height: 1.1;font-family: &quot;Courier New&quot;,Courier,monospace\">           ░ ┌─┐ ┌───┐ ┌───┐┌───┐┌───┐ ░            ░      ┌───┐ ░ ┌─┐    ░ »\n",
              "q_0: ──────░─┤M├─┤ X ├─┤ Z ├┤ X ├┤ H ├─░────────────░───■──┤ H ├─░─┤M├────░─»\n",
              "     ┌───┐ ░ └╥┘ └─╥─┘ └───┘└───┘└───┘ ░            ░   │  └───┘ ░ └╥┘    ░ »\n",
              "q_1: ┤ X ├─░──╫────╫───────────────────░────────────░───┼────────░──╫─────░─»\n",
              "     └───┘ ░  ║    ║                   ░ ┌───┐      ░ ┌─┴─┐      ░  ║ ┌─┐ ░ »\n",
              "q_2: ──────░──╫────╫───────────────────░─┤ H ├──■───░─┤ X ├──────░──╫─┤M├─░─»\n",
              "           ░  ║    ║                   ░ └───┘  │   ░ └───┘      ░  ║ └╥┘ ░ »\n",
              "q_3: ──────░──╫────╫───────────────────░────────┼───░────────────░──╫──╫──░─»\n",
              "           ░  ║    ║                   ░      ┌─┴─┐ ░            ░  ║  ║  ░ »\n",
              "q_4: ──────░──╫────╫───────────────────░──────┤ X ├─░────────────░──╫──╫──░─»\n",
              "           ░  ║    ║                   ░      └───┘ ░            ░  ║  ║  ░ »\n",
              "q_5: ──────░──╫────╫───────────────────░────────────░────────────░──╫──╫──░─»\n",
              "           ░  ║ ┌──╨──┐                ░            ░            ░  ║  ║  ░ »\n",
              "c: 9/═════════╩═╡ 0x0 ╞═════════════════════════════════════════════╩══╩════»\n",
              "              0 └─────┘                                             1  2    »\n",
              "«                 ░  ░ \n",
              "«q_0: ──────■─────░──░─\n",
              "«           │     ░  ░ \n",
              "«q_1: ──────┼─────░──░─\n",
              "«           │     ░  ░ \n",
              "«q_2: ──■───┼─────░──░─\n",
              "«       │   │     ░  ░ \n",
              "«q_3: ──┼───┼─────░──░─\n",
              "«     ┌─┴─┐ │ ┌─┐ ░  ░ \n",
              "«q_4: ┤ X ├─■─┤M├─░──░─\n",
              "«     └───┘   └╥┘ ░  ░ \n",
              "«q_5: ─────────╫──░──░─\n",
              "«              ║  ░  ░ \n",
              "«c: 9/═════════╩═══════\n",
              "«              5       </pre>"
            ]
          },
          "metadata": {},
          "execution_count": 143
        }
      ]
    },
    {
      "cell_type": "code",
      "source": [
        "#teleportation of q_1\n",
        "circuit.h(qreg_q[3])\n",
        "circuit.cx(qreg_q[3], qreg_q[5])\n",
        "\n",
        "\n",
        "circuit.barrier()\n",
        "\n",
        "circuit.cx(qreg_q[1], qreg_q[3])\n",
        "circuit.h(qreg_q[1])\n",
        "\n",
        "circuit.barrier()\n",
        "\n",
        "circuit.measure(qreg_q[1], creg_c[3])\n",
        "circuit.measure(qreg_q[3], creg_c[4])\n",
        "\n",
        "\n",
        "circuit.barrier()\n",
        "\n",
        "circuit.cx(qreg_q[3], qreg_q[5])\n",
        "circuit.cz(qreg_q[1], qreg_q[5])\n",
        "\n",
        "circuit.measure(qreg_q[5], creg_c[6])\n",
        "\n",
        "circuit.barrier()\n",
        "circuit.barrier()"
      ],
      "metadata": {
        "colab": {
          "base_uri": "https://localhost:8080/"
        },
        "id": "fMABh-BX1r2V",
        "outputId": "b6ecdfe3-2a14-49be-eea9-f5305884f244"
      },
      "execution_count": null,
      "outputs": [
        {
          "output_type": "execute_result",
          "data": {
            "text/plain": [
              "<qiskit.circuit.instructionset.InstructionSet at 0x7f81a12a8d70>"
            ]
          },
          "metadata": {},
          "execution_count": 144
        }
      ]
    },
    {
      "cell_type": "code",
      "source": [
        "circuit.draw()"
      ],
      "metadata": {
        "colab": {
          "base_uri": "https://localhost:8080/",
          "height": 479
        },
        "id": "gLxziW1B1zDS",
        "outputId": "c77c07e6-d2f7-40bf-849e-e2fe75f8f53c"
      },
      "execution_count": null,
      "outputs": [
        {
          "output_type": "execute_result",
          "data": {
            "text/plain": [
              "           ░ ┌─┐ ┌───┐ ┌───┐┌───┐┌───┐ ░            ░      ┌───┐ ░ ┌─┐    ░ »\n",
              "q_0: ──────░─┤M├─┤ X ├─┤ Z ├┤ X ├┤ H ├─░────────────░───■──┤ H ├─░─┤M├────░─»\n",
              "     ┌───┐ ░ └╥┘ └─╥─┘ └───┘└───┘└───┘ ░            ░   │  └───┘ ░ └╥┘    ░ »\n",
              "q_1: ┤ X ├─░──╫────╫───────────────────░────────────░───┼────────░──╫─────░─»\n",
              "     └───┘ ░  ║    ║                   ░ ┌───┐      ░ ┌─┴─┐      ░  ║ ┌─┐ ░ »\n",
              "q_2: ──────░──╫────╫───────────────────░─┤ H ├──■───░─┤ X ├──────░──╫─┤M├─░─»\n",
              "           ░  ║    ║                   ░ └───┘  │   ░ └───┘      ░  ║ └╥┘ ░ »\n",
              "q_3: ──────░──╫────╫───────────────────░────────┼───░────────────░──╫──╫──░─»\n",
              "           ░  ║    ║                   ░      ┌─┴─┐ ░            ░  ║  ║  ░ »\n",
              "q_4: ──────░──╫────╫───────────────────░──────┤ X ├─░────────────░──╫──╫──░─»\n",
              "           ░  ║    ║                   ░      └───┘ ░            ░  ║  ║  ░ »\n",
              "q_5: ──────░──╫────╫───────────────────░────────────░────────────░──╫──╫──░─»\n",
              "           ░  ║ ┌──╨──┐                ░            ░            ░  ║  ║  ░ »\n",
              "c: 9/═════════╩═╡ 0x0 ╞═════════════════════════════════════════════╩══╩════»\n",
              "              0 └─────┘                                             1  2    »\n",
              "«                 ░  ░            ░            ░        ░             ░  ░ \n",
              "«q_0: ──────■─────░──░────────────░────────────░────────░─────────────░──░─\n",
              "«           │     ░  ░            ░      ┌───┐ ░ ┌─┐    ░             ░  ░ \n",
              "«q_1: ──────┼─────░──░────────────░───■──┤ H ├─░─┤M├────░───────■─────░──░─\n",
              "«           │     ░  ░            ░   │  └───┘ ░ └╥┘    ░       │     ░  ░ \n",
              "«q_2: ──■───┼─────░──░────────────░───┼────────░──╫─────░───────┼─────░──░─\n",
              "«       │   │     ░  ░ ┌───┐      ░ ┌─┴─┐      ░  ║ ┌─┐ ░       │     ░  ░ \n",
              "«q_3: ──┼───┼─────░──░─┤ H ├──■───░─┤ X ├──────░──╫─┤M├─░───■───┼─────░──░─\n",
              "«     ┌─┴─┐ │ ┌─┐ ░  ░ └───┘  │   ░ └───┘      ░  ║ └╥┘ ░   │   │     ░  ░ \n",
              "«q_4: ┤ X ├─■─┤M├─░──░────────┼───░────────────░──╫──╫──░───┼───┼─────░──░─\n",
              "«     └───┘   └╥┘ ░  ░      ┌─┴─┐ ░            ░  ║  ║  ░ ┌─┴─┐ │ ┌─┐ ░  ░ \n",
              "«q_5: ─────────╫──░──░──────┤ X ├─░────────────░──╫──╫──░─┤ X ├─■─┤M├─░──░─\n",
              "«              ║  ░  ░      └───┘ ░            ░  ║  ║  ░ └───┘   └╥┘ ░  ░ \n",
              "«c: 9/═════════╩══════════════════════════════════╩══╩═════════════╩═══════\n",
              "«              5                                  3  4             6       "
            ],
            "text/html": [
              "<pre style=\"word-wrap: normal;white-space: pre;background: #fff0;line-height: 1.1;font-family: &quot;Courier New&quot;,Courier,monospace\">           ░ ┌─┐ ┌───┐ ┌───┐┌───┐┌───┐ ░            ░      ┌───┐ ░ ┌─┐    ░ »\n",
              "q_0: ──────░─┤M├─┤ X ├─┤ Z ├┤ X ├┤ H ├─░────────────░───■──┤ H ├─░─┤M├────░─»\n",
              "     ┌───┐ ░ └╥┘ └─╥─┘ └───┘└───┘└───┘ ░            ░   │  └───┘ ░ └╥┘    ░ »\n",
              "q_1: ┤ X ├─░──╫────╫───────────────────░────────────░───┼────────░──╫─────░─»\n",
              "     └───┘ ░  ║    ║                   ░ ┌───┐      ░ ┌─┴─┐      ░  ║ ┌─┐ ░ »\n",
              "q_2: ──────░──╫────╫───────────────────░─┤ H ├──■───░─┤ X ├──────░──╫─┤M├─░─»\n",
              "           ░  ║    ║                   ░ └───┘  │   ░ └───┘      ░  ║ └╥┘ ░ »\n",
              "q_3: ──────░──╫────╫───────────────────░────────┼───░────────────░──╫──╫──░─»\n",
              "           ░  ║    ║                   ░      ┌─┴─┐ ░            ░  ║  ║  ░ »\n",
              "q_4: ──────░──╫────╫───────────────────░──────┤ X ├─░────────────░──╫──╫──░─»\n",
              "           ░  ║    ║                   ░      └───┘ ░            ░  ║  ║  ░ »\n",
              "q_5: ──────░──╫────╫───────────────────░────────────░────────────░──╫──╫──░─»\n",
              "           ░  ║ ┌──╨──┐                ░            ░            ░  ║  ║  ░ »\n",
              "c: 9/═════════╩═╡ 0x0 ╞═════════════════════════════════════════════╩══╩════»\n",
              "              0 └─────┘                                             1  2    »\n",
              "«                 ░  ░            ░            ░        ░             ░  ░ \n",
              "«q_0: ──────■─────░──░────────────░────────────░────────░─────────────░──░─\n",
              "«           │     ░  ░            ░      ┌───┐ ░ ┌─┐    ░             ░  ░ \n",
              "«q_1: ──────┼─────░──░────────────░───■──┤ H ├─░─┤M├────░───────■─────░──░─\n",
              "«           │     ░  ░            ░   │  └───┘ ░ └╥┘    ░       │     ░  ░ \n",
              "«q_2: ──■───┼─────░──░────────────░───┼────────░──╫─────░───────┼─────░──░─\n",
              "«       │   │     ░  ░ ┌───┐      ░ ┌─┴─┐      ░  ║ ┌─┐ ░       │     ░  ░ \n",
              "«q_3: ──┼───┼─────░──░─┤ H ├──■───░─┤ X ├──────░──╫─┤M├─░───■───┼─────░──░─\n",
              "«     ┌─┴─┐ │ ┌─┐ ░  ░ └───┘  │   ░ └───┘      ░  ║ └╥┘ ░   │   │     ░  ░ \n",
              "«q_4: ┤ X ├─■─┤M├─░──░────────┼───░────────────░──╫──╫──░───┼───┼─────░──░─\n",
              "«     └───┘   └╥┘ ░  ░      ┌─┴─┐ ░            ░  ║  ║  ░ ┌─┴─┐ │ ┌─┐ ░  ░ \n",
              "«q_5: ─────────╫──░──░──────┤ X ├─░────────────░──╫──╫──░─┤ X ├─■─┤M├─░──░─\n",
              "«              ║  ░  ░      └───┘ ░            ░  ║  ║  ░ └───┘   └╥┘ ░  ░ \n",
              "«c: 9/═════════╩══════════════════════════════════╩══╩═════════════╩═══════\n",
              "«              5                                  3  4             6       </pre>"
            ]
          },
          "metadata": {},
          "execution_count": 145
        }
      ]
    },
    {
      "cell_type": "code",
      "source": [
        "#decryption code\n",
        "circuit.h(qreg_q[4])\n",
        "circuit.x(qreg_q[4])\n",
        "circuit.z(qreg_q[4])\n",
        "circuit.x(qreg_q[4]).c_if(creg_c, 0)\n",
        "\n",
        "circuit.barrier()\n",
        "\n",
        "#q_4 and q_5 contains the decrypted bits\n",
        "circuit.measure(qreg_q[4], creg_c[7])\n",
        "circuit.measure(qreg_q[5], creg_c[8])\n"
      ],
      "metadata": {
        "colab": {
          "base_uri": "https://localhost:8080/"
        },
        "id": "CK02wExC10a-",
        "outputId": "45e78c8d-9fb4-48a7-d512-fc961251add3"
      },
      "execution_count": null,
      "outputs": [
        {
          "output_type": "execute_result",
          "data": {
            "text/plain": [
              "<qiskit.circuit.instructionset.InstructionSet at 0x7f81a12cb780>"
            ]
          },
          "metadata": {},
          "execution_count": 146
        }
      ]
    },
    {
      "cell_type": "code",
      "source": [
        "circuit.draw()"
      ],
      "metadata": {
        "colab": {
          "base_uri": "https://localhost:8080/",
          "height": 710
        },
        "id": "YuziML5J2iE-",
        "outputId": "c6766b0b-7fb5-4bc9-d00b-ae9645b99f9a"
      },
      "execution_count": null,
      "outputs": [
        {
          "output_type": "execute_result",
          "data": {
            "text/plain": [
              "           ░ ┌─┐ ┌───┐ ┌───┐┌───┐┌───┐ ░            ░      ┌───┐ ░ ┌─┐    ░ »\n",
              "q_0: ──────░─┤M├─┤ X ├─┤ Z ├┤ X ├┤ H ├─░────────────░───■──┤ H ├─░─┤M├────░─»\n",
              "     ┌───┐ ░ └╥┘ └─╥─┘ └───┘└───┘└───┘ ░            ░   │  └───┘ ░ └╥┘    ░ »\n",
              "q_1: ┤ X ├─░──╫────╫───────────────────░────────────░───┼────────░──╫─────░─»\n",
              "     └───┘ ░  ║    ║                   ░ ┌───┐      ░ ┌─┴─┐      ░  ║ ┌─┐ ░ »\n",
              "q_2: ──────░──╫────╫───────────────────░─┤ H ├──■───░─┤ X ├──────░──╫─┤M├─░─»\n",
              "           ░  ║    ║                   ░ └───┘  │   ░ └───┘      ░  ║ └╥┘ ░ »\n",
              "q_3: ──────░──╫────╫───────────────────░────────┼───░────────────░──╫──╫──░─»\n",
              "           ░  ║    ║                   ░      ┌─┴─┐ ░            ░  ║  ║  ░ »\n",
              "q_4: ──────░──╫────╫───────────────────░──────┤ X ├─░────────────░──╫──╫──░─»\n",
              "           ░  ║    ║                   ░      └───┘ ░            ░  ║  ║  ░ »\n",
              "q_5: ──────░──╫────╫───────────────────░────────────░────────────░──╫──╫──░─»\n",
              "           ░  ║ ┌──╨──┐                ░            ░            ░  ║  ║  ░ »\n",
              "c: 9/═════════╩═╡ 0x0 ╞═════════════════════════════════════════════╩══╩════»\n",
              "              0 └─────┘                                             1  2    »\n",
              "«                 ░  ░            ░            ░        ░             ░  ░ »\n",
              "«q_0: ──────■─────░──░────────────░────────────░────────░─────────────░──░─»\n",
              "«           │     ░  ░            ░      ┌───┐ ░ ┌─┐    ░             ░  ░ »\n",
              "«q_1: ──────┼─────░──░────────────░───■──┤ H ├─░─┤M├────░───────■─────░──░─»\n",
              "«           │     ░  ░            ░   │  └───┘ ░ └╥┘    ░       │     ░  ░ »\n",
              "«q_2: ──■───┼─────░──░────────────░───┼────────░──╫─────░───────┼─────░──░─»\n",
              "«       │   │     ░  ░ ┌───┐      ░ ┌─┴─┐      ░  ║ ┌─┐ ░       │     ░  ░ »\n",
              "«q_3: ──┼───┼─────░──░─┤ H ├──■───░─┤ X ├──────░──╫─┤M├─░───■───┼─────░──░─»\n",
              "«     ┌─┴─┐ │ ┌─┐ ░  ░ └───┘  │   ░ └───┘      ░  ║ └╥┘ ░   │   │     ░  ░ »\n",
              "«q_4: ┤ X ├─■─┤M├─░──░────────┼───░────────────░──╫──╫──░───┼───┼─────░──░─»\n",
              "«     └───┘   └╥┘ ░  ░      ┌─┴─┐ ░            ░  ║  ║  ░ ┌─┴─┐ │ ┌─┐ ░  ░ »\n",
              "«q_5: ─────────╫──░──░──────┤ X ├─░────────────░──╫──╫──░─┤ X ├─■─┤M├─░──░─»\n",
              "«              ║  ░  ░      └───┘ ░            ░  ║  ║  ░ └───┘   └╥┘ ░  ░ »\n",
              "«c: 9/═════════╩══════════════════════════════════╩══╩═════════════╩═══════»\n",
              "«              5                                  3  4             6       »\n",
              "«                            ░       \n",
              "«q_0: ───────────────────────░───────\n",
              "«                            ░       \n",
              "«q_1: ───────────────────────░───────\n",
              "«                            ░       \n",
              "«q_2: ───────────────────────░───────\n",
              "«                            ░       \n",
              "«q_3: ───────────────────────░───────\n",
              "«     ┌───┐┌───┐┌───┐ ┌───┐  ░ ┌─┐   \n",
              "«q_4: ┤ H ├┤ X ├┤ Z ├─┤ X ├──░─┤M├───\n",
              "«     └───┘└───┘└───┘ └─╥─┘  ░ └╥┘┌─┐\n",
              "«q_5: ──────────────────╫────░──╫─┤M├\n",
              "«                    ┌──╨──┐ ░  ║ └╥┘\n",
              "«c: 9/═══════════════╡ 0x0 ╞════╩══╩═\n",
              "«                    └─────┘    7  8 "
            ],
            "text/html": [
              "<pre style=\"word-wrap: normal;white-space: pre;background: #fff0;line-height: 1.1;font-family: &quot;Courier New&quot;,Courier,monospace\">           ░ ┌─┐ ┌───┐ ┌───┐┌───┐┌───┐ ░            ░      ┌───┐ ░ ┌─┐    ░ »\n",
              "q_0: ──────░─┤M├─┤ X ├─┤ Z ├┤ X ├┤ H ├─░────────────░───■──┤ H ├─░─┤M├────░─»\n",
              "     ┌───┐ ░ └╥┘ └─╥─┘ └───┘└───┘└───┘ ░            ░   │  └───┘ ░ └╥┘    ░ »\n",
              "q_1: ┤ X ├─░──╫────╫───────────────────░────────────░───┼────────░──╫─────░─»\n",
              "     └───┘ ░  ║    ║                   ░ ┌───┐      ░ ┌─┴─┐      ░  ║ ┌─┐ ░ »\n",
              "q_2: ──────░──╫────╫───────────────────░─┤ H ├──■───░─┤ X ├──────░──╫─┤M├─░─»\n",
              "           ░  ║    ║                   ░ └───┘  │   ░ └───┘      ░  ║ └╥┘ ░ »\n",
              "q_3: ──────░──╫────╫───────────────────░────────┼───░────────────░──╫──╫──░─»\n",
              "           ░  ║    ║                   ░      ┌─┴─┐ ░            ░  ║  ║  ░ »\n",
              "q_4: ──────░──╫────╫───────────────────░──────┤ X ├─░────────────░──╫──╫──░─»\n",
              "           ░  ║    ║                   ░      └───┘ ░            ░  ║  ║  ░ »\n",
              "q_5: ──────░──╫────╫───────────────────░────────────░────────────░──╫──╫──░─»\n",
              "           ░  ║ ┌──╨──┐                ░            ░            ░  ║  ║  ░ »\n",
              "c: 9/═════════╩═╡ 0x0 ╞═════════════════════════════════════════════╩══╩════»\n",
              "              0 └─────┘                                             1  2    »\n",
              "«                 ░  ░            ░            ░        ░             ░  ░ »\n",
              "«q_0: ──────■─────░──░────────────░────────────░────────░─────────────░──░─»\n",
              "«           │     ░  ░            ░      ┌───┐ ░ ┌─┐    ░             ░  ░ »\n",
              "«q_1: ──────┼─────░──░────────────░───■──┤ H ├─░─┤M├────░───────■─────░──░─»\n",
              "«           │     ░  ░            ░   │  └───┘ ░ └╥┘    ░       │     ░  ░ »\n",
              "«q_2: ──■───┼─────░──░────────────░───┼────────░──╫─────░───────┼─────░──░─»\n",
              "«       │   │     ░  ░ ┌───┐      ░ ┌─┴─┐      ░  ║ ┌─┐ ░       │     ░  ░ »\n",
              "«q_3: ──┼───┼─────░──░─┤ H ├──■───░─┤ X ├──────░──╫─┤M├─░───■───┼─────░──░─»\n",
              "«     ┌─┴─┐ │ ┌─┐ ░  ░ └───┘  │   ░ └───┘      ░  ║ └╥┘ ░   │   │     ░  ░ »\n",
              "«q_4: ┤ X ├─■─┤M├─░──░────────┼───░────────────░──╫──╫──░───┼───┼─────░──░─»\n",
              "«     └───┘   └╥┘ ░  ░      ┌─┴─┐ ░            ░  ║  ║  ░ ┌─┴─┐ │ ┌─┐ ░  ░ »\n",
              "«q_5: ─────────╫──░──░──────┤ X ├─░────────────░──╫──╫──░─┤ X ├─■─┤M├─░──░─»\n",
              "«              ║  ░  ░      └───┘ ░            ░  ║  ║  ░ └───┘   └╥┘ ░  ░ »\n",
              "«c: 9/═════════╩══════════════════════════════════╩══╩═════════════╩═══════»\n",
              "«              5                                  3  4             6       »\n",
              "«                            ░       \n",
              "«q_0: ───────────────────────░───────\n",
              "«                            ░       \n",
              "«q_1: ───────────────────────░───────\n",
              "«                            ░       \n",
              "«q_2: ───────────────────────░───────\n",
              "«                            ░       \n",
              "«q_3: ───────────────────────░───────\n",
              "«     ┌───┐┌───┐┌───┐ ┌───┐  ░ ┌─┐   \n",
              "«q_4: ┤ H ├┤ X ├┤ Z ├─┤ X ├──░─┤M├───\n",
              "«     └───┘└───┘└───┘ └─╥─┘  ░ └╥┘┌─┐\n",
              "«q_5: ──────────────────╫────░──╫─┤M├\n",
              "«                    ┌──╨──┐ ░  ║ └╥┘\n",
              "«c: 9/═══════════════╡ 0x0 ╞════╩══╩═\n",
              "«                    └─────┘    7  8 </pre>"
            ]
          },
          "metadata": {},
          "execution_count": 147
        }
      ]
    },
    {
      "cell_type": "code",
      "source": [
        "simulator = Aer.get_backend('aer_simulator')\n",
        "result = execute(circuit, backend=simulator, shots=10000).result()\n",
        "from qiskit.visualization import plot_histogram\n",
        "plot_histogram(result.get_counts(circuit))"
      ],
      "metadata": {
        "colab": {
          "base_uri": "https://localhost:8080/",
          "height": 389
        },
        "id": "iY3Z0WWr2kV2",
        "outputId": "ee94eda4-e885-4b15-e5ef-56e5d697d359"
      },
      "execution_count": null,
      "outputs": [
        {
          "output_type": "execute_result",
          "data": {
            "text/plain": [
              "<Figure size 504x360 with 1 Axes>"
            ],
            "image/png": "[encoded data removed]"
          },
          "metadata": {},
          "execution_count": 148
        }
      ]
    },
    {
      "cell_type": "code",
      "source": [
        "#for 10 and 11 transmission we will get same bits at decrypting side.\n",
        "#but for 00 and 01 as encryption is same as 10 and 11 respectively so he can't decode it s perfectly. "
      ],
      "metadata": {
        "id": "IcuV1Sdm9MM2"
      },
      "execution_count": null,
      "outputs": []
    }
  ]
}